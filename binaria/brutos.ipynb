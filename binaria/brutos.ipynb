{
 "cells": [
  {
   "cell_type": "markdown",
   "metadata": {},
   "source": [
    "Rede neural CNN treinado sob dados brutos de forma binária"
   ]
  },
  {
   "cell_type": "markdown",
   "metadata": {},
   "source": [
    "1º Importar as bibliotecas e os dados do conjunto MNIST"
   ]
  },
  {
   "cell_type": "code",
   "execution_count": null,
   "metadata": {},
   "outputs": [],
   "source": [
    "import json\n",
    "from tensorflow.keras.datasets import mnist\n",
    "from tensorflow.keras import layers, models\n",
    "\n",
    "# 1. Carregar o conjunto de dados MNIST\n",
    "(x_train, y_train), (x_test, y_test) = mnist.load_data()"
   ]
  },
  {
   "cell_type": "markdown",
   "metadata": {},
   "source": [
    "2º Criar os filtros"
   ]
  },
  {
   "cell_type": "code",
   "execution_count": null,
   "metadata": {},
   "outputs": [],
   "source": [
    "classes = [0, 1]\n",
    "filter_train = (y_train == classes[0]) | (y_train == classes[1])\n",
    "filter_test = (y_test == classes[0]) | (y_test == classes[1])"
   ]
  },
  {
   "cell_type": "markdown",
   "metadata": {},
   "source": [
    "3º Filtrar os dados"
   ]
  },
  {
   "cell_type": "code",
   "execution_count": null,
   "metadata": {},
   "outputs": [],
   "source": [
    "x_train, y_train = x_train[filter_train], y_train[filter_train]\n",
    "x_test, y_test = x_test[filter_test], y_test[filter_test]"
   ]
  },
  {
   "cell_type": "markdown",
   "metadata": {},
   "source": [
    "4º Normalizar os dados"
   ]
  },
  {
   "cell_type": "code",
   "execution_count": null,
   "metadata": {},
   "outputs": [],
   "source": [
    "x_train, x_test = x_train / 255.0, x_test / 255.0"
   ]
  },
  {
   "cell_type": "markdown",
   "metadata": {},
   "source": [
    "5º Pré-processamento os dados"
   ]
  },
  {
   "cell_type": "code",
   "execution_count": null,
   "metadata": {},
   "outputs": [],
   "source": [
    "x_train = x_train.reshape((-1, 28, 28, 1))\n",
    "x_test = x_test.reshape((-1, 28, 28, 1))"
   ]
  },
  {
   "cell_type": "markdown",
   "metadata": {},
   "source": [
    "6º Construir o modelo da CNN"
   ]
  },
  {
   "cell_type": "code",
   "execution_count": null,
   "metadata": {},
   "outputs": [],
   "source": [
    "model = models.Sequential([\n",
    "    layers.Conv2D(32, (3, 3), activation='relu', input_shape=(28, 28, 1)),\n",
    "    layers.MaxPooling2D((2, 2)),\n",
    "    layers.Conv2D(64, (3, 3), activation='relu'),\n",
    "    layers.MaxPooling2D((2, 2)),\n",
    "    layers.Conv2D(64, (3, 3), activation='relu'),\n",
    "    layers.Flatten(),\n",
    "    layers.Dense(64, activation='relu'),\n",
    "    layers.Dense(1, activation='sigmoid')\n",
    "])"
   ]
  },
  {
   "cell_type": "markdown",
   "metadata": {},
   "source": [
    "7º Compilar o modelo"
   ]
  },
  {
   "cell_type": "code",
   "execution_count": null,
   "metadata": {},
   "outputs": [],
   "source": [
    "model.compile(optimizer='adam', loss='binary_crossentropy', metrics=['accuracy'])"
   ]
  },
  {
   "cell_type": "markdown",
   "metadata": {},
   "source": [
    "- Criando e salvando os hiperparâmetros da arquitetura e da inicialização em formato json em arquivos-brutos/hiperparametros.json\n",
    "\n",
    "- Salvando os pesos iniciais"
   ]
  },
  {
   "cell_type": "code",
   "execution_count": null,
   "metadata": {},
   "outputs": [],
   "source": [
    "# Definir os hiperparâmetros da arquitetura da rede neural e os hiperparâmetros de inicialização\n",
    "hiperparametros = {\n",
    "    'arquitetura': {\n",
    "        'camadas': [\n",
    "            {'tipo': 'Conv2D', 'filtros': 32, 'kernel_size': (3, 3), 'activation': 'relu', 'input_shape': (28, 28, 1)},\n",
    "            {'tipo': 'MaxPooling2D', 'pool_size': (2, 2)},\n",
    "            {'tipo': 'Conv2D', 'filtros': 64, 'kernel_size': (3, 3), 'activation': 'relu'},\n",
    "            {'tipo': 'MaxPooling2D', 'pool_size': (2, 2)},\n",
    "            {'tipo': 'Conv2D', 'filtros': 64, 'kernel_size': (3, 3), 'activation': 'relu'},\n",
    "            {'tipo': 'Flatten'},\n",
    "            {'tipo': 'Dense', 'unidades': 64, 'activation': 'relu'},\n",
    "            {'tipo': 'Dense', 'unidades': 1, 'activation': 'sigmoid'}\n",
    "        ]\n",
    "    },\n",
    "    'inicializacao': {\n",
    "        'optimizer': 'adam',\n",
    "        'loss': 'binary_crossentropy',\n",
    "        'metrics': ['accuracy']\n",
    "    }\n",
    "}\n",
    "\n",
    "# Serializando os hiperparâmetros em uma string JSON\n",
    "hiperparametros_json = json.dumps(hiperparametros, indent=4)\n",
    "\n",
    "# Escrevendo a string JSON em um arquivo\n",
    "with open(\"arquivos-brutos/hiperparametros.json\", \"w\") as arquivo:\n",
    "    arquivo.write(hiperparametros_json)\n",
    "\n",
    "\n",
    "# PESOS INICIAIS\n",
    "model.save_weights('arquivos-brutos/pesos_iniciais.weights.h5')"
   ]
  },
  {
   "cell_type": "markdown",
   "metadata": {},
   "source": [
    "8º Treinar o modelo"
   ]
  },
  {
   "cell_type": "code",
   "execution_count": null,
   "metadata": {},
   "outputs": [],
   "source": [
    "historico = model.fit(x_train, y_train, epochs=5, batch_size=64, validation_split=0.2)"
   ]
  },
  {
   "cell_type": "markdown",
   "metadata": {},
   "source": [
    "- Salvando os pesos finais da rede \n",
    "- Salvando o histórico de perda para cada iteração\n",
    "- Salvando as saídas produzidas pela rede para cada um dos dados de teste"
   ]
  },
  {
   "cell_type": "code",
   "execution_count": null,
   "metadata": {},
   "outputs": [],
   "source": [
    "# PESOS FINAIS\n",
    "model.save_weights('arquivos-brutos/pesos_finais.weights.h5')\n",
    "\n",
    "# ERRO DE CADA ITERAÇÃO\n",
    "perdas = historico.history['loss']\n",
    "\n",
    "# Salvando o histórico de perda em um arquivo JSON\n",
    "with open('arquivos-brutos/historico_perda.json', 'w') as f:\n",
    "    json.dump(perdas, f)\n",
    "\n",
    "\n",
    "# SAÍDAS PRODUZIDAS\n",
    "# Fazendo inferência com o modelo treinado para obter as saídas\n",
    "saidas = model.predict(x_train)\n",
    "\n",
    "# Convertendo as saídas para uma lista para serialização\n",
    "saidas_lista = saidas.tolist()\n",
    "\n",
    "# Salvando as saídas em um arquivo JSON\n",
    "with open('arquivos-brutos/saidas_teste.json', 'w') as f:\n",
    "    json.dump(saidas_lista, f)"
   ]
  },
  {
   "cell_type": "markdown",
   "metadata": {},
   "source": [
    "9º Testar o modelo"
   ]
  },
  {
   "cell_type": "code",
   "execution_count": null,
   "metadata": {},
   "outputs": [],
   "source": [
    "test_loss, test_acc = model.evaluate(x_test, y_test)\n",
    "print(f'Test accuracy: {test_acc}, Test loss: {test_loss}')"
   ]
  }
 ],
 "metadata": {
  "kernelspec": {
   "display_name": "Python 3",
   "language": "python",
   "name": "python3"
  },
  "language_info": {
   "codemirror_mode": {
    "name": "ipython",
    "version": 3
   },
   "file_extension": ".py",
   "mimetype": "text/x-python",
   "name": "python",
   "nbconvert_exporter": "python",
   "pygments_lexer": "ipython3",
   "version": "3.11.6"
  }
 },
 "nbformat": 4,
 "nbformat_minor": 2
}
